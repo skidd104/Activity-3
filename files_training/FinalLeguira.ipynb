{
 "cells": [
  {
   "cell_type": "code",
   "execution_count": 1,
   "metadata": {},
   "outputs": [],
   "source": [
    "import numpy as np\n",
    "import pandas as pd\n",
    "import matplotlib.pyplot as plt\n"
   ]
  },
  {
   "cell_type": "code",
   "execution_count": 2,
   "metadata": {},
   "outputs": [],
   "source": [
    "df = pd.read_csv ('Data_Startups.csv')\n",
    "\n",
    "dataset = df.drop (['City'], axis = 1)\n"
   ]
  },
  {
   "cell_type": "code",
   "execution_count": 3,
   "metadata": {},
   "outputs": [],
   "source": [
    "X = dataset.iloc[:, :-1].values\n",
    "y = dataset.iloc[:, 3].values"
   ]
  },
  {
   "cell_type": "code",
   "execution_count": 4,
   "metadata": {},
   "outputs": [
    {
     "data": {
      "text/plain": [
       "array([[165349.2 , 136897.8 , 471784.1 ],\n",
       "       [162597.7 , 151377.59, 443898.53],\n",
       "       [153441.51, 101145.55, 407934.54],\n",
       "       [144372.41, 118671.85, 383199.62],\n",
       "       [142107.34,  91391.77, 366168.42],\n",
       "       [131876.9 ,  99814.71, 362861.36],\n",
       "       [134615.46, 147198.87, 127716.82],\n",
       "       [130298.13, 145530.06, 323876.68],\n",
       "       [120542.52,       nan, 311613.29],\n",
       "       [123334.88, 108679.17, 304981.62],\n",
       "       [101913.08, 110594.11, 229160.95],\n",
       "       [100671.96,  91790.61, 249744.55],\n",
       "       [ 93863.75, 127320.38, 249839.44],\n",
       "       [      nan, 135495.07, 252664.93],\n",
       "       [119943.24, 156547.42,       nan],\n",
       "       [114523.61, 122616.84, 261776.23],\n",
       "       [ 78013.11, 121597.55, 264346.06],\n",
       "       [ 94657.16, 145077.58, 282574.31],\n",
       "       [ 91749.16, 114175.79, 294919.57],\n",
       "       [ 86419.7 , 153514.11,      0.  ],\n",
       "       [ 76253.86, 113867.3 , 298664.47],\n",
       "       [ 78389.47, 153773.43, 299737.29],\n",
       "       [ 73994.56, 122782.75, 303319.26],\n",
       "       [ 67532.53, 105751.03, 304768.73],\n",
       "       [ 77044.01,  99281.34, 140574.81],\n",
       "       [ 64664.71, 139553.16, 137962.62],\n",
       "       [ 75328.87, 144135.98, 134050.07],\n",
       "       [ 72107.6 , 127864.55, 353183.81],\n",
       "       [ 66051.52, 182645.56, 118148.2 ],\n",
       "       [ 65605.48, 153032.06, 107138.38],\n",
       "       [ 61994.48, 115641.28,  91131.24],\n",
       "       [ 61136.38, 152701.92,  88218.23],\n",
       "       [ 63408.86, 129219.61,  46085.25],\n",
       "       [ 55493.95, 103057.49, 214634.81],\n",
       "       [ 46426.07, 157693.92, 210797.67],\n",
       "       [ 46014.02,  85047.44, 205517.64],\n",
       "       [ 28663.76, 127056.21, 201126.82],\n",
       "       [      nan,  51283.14, 197029.42],\n",
       "       [ 20229.59,  65947.93, 185265.1 ],\n",
       "       [ 38558.51,  82982.09, 174999.3 ],\n",
       "       [ 28754.33, 118546.05, 172795.67],\n",
       "       [ 27892.92,  84710.77, 164470.71],\n",
       "       [ 23640.93,       nan, 148001.11],\n",
       "       [ 15505.73, 127382.3 ,  35534.17],\n",
       "       [ 22177.74, 154806.14,  28334.72],\n",
       "       [  1000.23, 124153.04,   1903.93],\n",
       "       [  1315.46, 115816.21, 297114.46],\n",
       "       [     0.  , 135426.92,      0.  ],\n",
       "       [   542.05,  51743.15,      0.  ],\n",
       "       [     0.  , 116983.8 ,  45173.06]])"
      ]
     },
     "execution_count": 4,
     "metadata": {},
     "output_type": "execute_result"
    }
   ],
   "source": [
    "X"
   ]
  },
  {
   "cell_type": "code",
   "execution_count": 5,
   "metadata": {},
   "outputs": [
    {
     "data": {
      "text/plain": [
       "array([192261.83, 191792.06, 191050.39, 182901.99, 166187.94, 156991.12,\n",
       "       156122.51, 155752.6 , 152211.77, 149759.96, 146121.95, 144259.4 ,\n",
       "       141585.52, 134307.35, 132602.65, 129917.04, 126992.93, 125370.37,\n",
       "       124266.9 , 122776.86, 118474.03, 111313.02, 110352.25, 108733.99,\n",
       "       108552.04, 107404.34, 105733.54, 105008.31, 103282.38, 101004.64,\n",
       "        99937.59,  97483.56,  97427.84,  96778.92,  96712.8 ,  96479.51,\n",
       "        90708.19,  89949.14,  81229.06,  81005.76,  78239.91,  77798.83,\n",
       "        71498.49,  69758.98,  65200.33,  64926.08,  49490.75,  42559.73,\n",
       "        35673.41,  14681.4 ])"
      ]
     },
     "execution_count": 5,
     "metadata": {},
     "output_type": "execute_result"
    }
   ],
   "source": [
    "y"
   ]
  },
  {
   "cell_type": "markdown",
   "metadata": {},
   "source": [
    "# Fill Missing"
   ]
  },
  {
   "cell_type": "code",
   "execution_count": 6,
   "metadata": {},
   "outputs": [],
   "source": [
    "from sklearn.impute import SimpleImputer\n",
    "\n",
    "imputa = SimpleImputer(missing_values= np.nan, strategy='mean')\n",
    "imputa.fit(X[:, 0:3])\n",
    "\n",
    "X[:, 0:3] = imputa.transform(X[:, 0:3])"
   ]
  },
  {
   "cell_type": "code",
   "execution_count": 7,
   "metadata": {},
   "outputs": [
    {
     "name": "stdout",
     "output_type": "stream",
     "text": [
      "[[165349.2        136897.8        471784.1       ]\n",
      " [162597.7        151377.59       443898.53      ]\n",
      " [153441.51       101145.55       407934.54      ]\n",
      " [144372.41       118671.85       383199.62      ]\n",
      " [142107.34        91391.77       366168.42      ]\n",
      " [131876.9         99814.71       362861.36      ]\n",
      " [134615.46       147198.87       127716.82      ]\n",
      " [130298.13       145530.06       323876.68      ]\n",
      " [120542.52       121298.40416667 311613.29      ]\n",
      " [123334.88       108679.17       304981.62      ]\n",
      " [101913.08       110594.11       229160.95      ]\n",
      " [100671.96        91790.61       249744.55      ]\n",
      " [ 93863.75       127320.38       249839.44      ]\n",
      " [ 73958.7175     135495.07       252664.93      ]\n",
      " [119943.24       156547.42       210096.77489796]\n",
      " [114523.61       122616.84       261776.23      ]\n",
      " [ 78013.11       121597.55       264346.06      ]\n",
      " [ 94657.16       145077.58       282574.31      ]\n",
      " [ 91749.16       114175.79       294919.57      ]\n",
      " [ 86419.7        153514.11            0.        ]\n",
      " [ 76253.86       113867.3        298664.47      ]\n",
      " [ 78389.47       153773.43       299737.29      ]\n",
      " [ 73994.56       122782.75       303319.26      ]\n",
      " [ 67532.53       105751.03       304768.73      ]\n",
      " [ 77044.01        99281.34       140574.81      ]\n",
      " [ 64664.71       139553.16       137962.62      ]\n",
      " [ 75328.87       144135.98       134050.07      ]\n",
      " [ 72107.6        127864.55       353183.81      ]\n",
      " [ 66051.52       182645.56       118148.2       ]\n",
      " [ 65605.48       153032.06       107138.38      ]\n",
      " [ 61994.48       115641.28        91131.24      ]\n",
      " [ 61136.38       152701.92        88218.23      ]\n",
      " [ 63408.86       129219.61        46085.25      ]\n",
      " [ 55493.95       103057.49       214634.81      ]\n",
      " [ 46426.07       157693.92       210797.67      ]\n",
      " [ 46014.02        85047.44       205517.64      ]\n",
      " [ 28663.76       127056.21       201126.82      ]\n",
      " [ 73958.7175      51283.14       197029.42      ]\n",
      " [ 20229.59        65947.93       185265.1       ]\n",
      " [ 38558.51        82982.09       174999.3       ]\n",
      " [ 28754.33       118546.05       172795.67      ]\n",
      " [ 27892.92        84710.77       164470.71      ]\n",
      " [ 23640.93       121298.40416667 148001.11      ]\n",
      " [ 15505.73       127382.3         35534.17      ]\n",
      " [ 22177.74       154806.14        28334.72      ]\n",
      " [  1000.23       124153.04         1903.93      ]\n",
      " [  1315.46       115816.21       297114.46      ]\n",
      " [     0.         135426.92            0.        ]\n",
      " [   542.05        51743.15            0.        ]\n",
      " [     0.         116983.8         45173.06      ]]\n"
     ]
    }
   ],
   "source": [
    "print (X)"
   ]
  },
  {
   "cell_type": "code",
   "execution_count": 8,
   "metadata": {},
   "outputs": [],
   "source": [
    "# Encoding categorical data\n",
    "# Encoding the Independent Variable\n",
    "from sklearn.preprocessing import LabelEncoder, OneHotEncoder\n",
    "from sklearn.compose import ColumnTransformer\n",
    "\n",
    "\n",
    "\n",
    "# Create a label encoder for the categorical column (index 3)\n",
    "labelencoder_X = LabelEncoder()\n",
    "X[:, 2] = labelencoder_X.fit_transform(X[:, 2])\n",
    "\n",
    "# Specify the column(s) to one-hot encode, in this case, column 3 (index 3)\n",
    "# You can add more columns to this list if needed.\n",
    "columns_to_encode = [2]\n",
    "\n",
    "# Create a column transformer\n",
    "ct = ColumnTransformer(\n",
    "    transformers=[\n",
    "        ('encoder', OneHotEncoder(), columns_to_encode)\n",
    "    ],\n",
    "    remainder='passthrough'  # Keep the remaining columns as is\n",
    ")\n",
    "\n",
    "X_encoded = ct.fit_transform(X)"
   ]
  },
  {
   "cell_type": "code",
   "execution_count": 9,
   "metadata": {},
   "outputs": [
    {
     "data": {
      "text/plain": [
       "array([192261, 191792, 191050, 182901, 166187, 156991, 156122, 155752,\n",
       "       152211, 149759, 146121, 144259, 141585, 134307, 132602, 129917,\n",
       "       126992, 125370, 124266, 122776, 118474, 111313, 110352, 108733,\n",
       "       108552, 107404, 105733, 105008, 103282, 101004,  99937,  97483,\n",
       "        97427,  96778,  96712,  96479,  90708,  89949,  81229,  81005,\n",
       "        78239,  77798,  71498,  69758,  65200,  64926,  49490,  42559,\n",
       "        35673,  14681])"
      ]
     },
     "execution_count": 9,
     "metadata": {},
     "output_type": "execute_result"
    }
   ],
   "source": [
    "X.astype(int)\n",
    "y.astype(int)"
   ]
  },
  {
   "cell_type": "code",
   "execution_count": 10,
   "metadata": {},
   "outputs": [],
   "source": [
    "from sklearn.model_selection import train_test_split\n",
    "X_train, X_test, y_train, y_test = train_test_split (X, y, test_size = 0.2, random_state=0)\n"
   ]
  },
  {
   "cell_type": "code",
   "execution_count": 11,
   "metadata": {},
   "outputs": [
    {
     "data": {
      "text/html": [
       "<style>#sk-container-id-1 {color: black;}#sk-container-id-1 pre{padding: 0;}#sk-container-id-1 div.sk-toggleable {background-color: white;}#sk-container-id-1 label.sk-toggleable__label {cursor: pointer;display: block;width: 100%;margin-bottom: 0;padding: 0.3em;box-sizing: border-box;text-align: center;}#sk-container-id-1 label.sk-toggleable__label-arrow:before {content: \"▸\";float: left;margin-right: 0.25em;color: #696969;}#sk-container-id-1 label.sk-toggleable__label-arrow:hover:before {color: black;}#sk-container-id-1 div.sk-estimator:hover label.sk-toggleable__label-arrow:before {color: black;}#sk-container-id-1 div.sk-toggleable__content {max-height: 0;max-width: 0;overflow: hidden;text-align: left;background-color: #f0f8ff;}#sk-container-id-1 div.sk-toggleable__content pre {margin: 0.2em;color: black;border-radius: 0.25em;background-color: #f0f8ff;}#sk-container-id-1 input.sk-toggleable__control:checked~div.sk-toggleable__content {max-height: 200px;max-width: 100%;overflow: auto;}#sk-container-id-1 input.sk-toggleable__control:checked~label.sk-toggleable__label-arrow:before {content: \"▾\";}#sk-container-id-1 div.sk-estimator input.sk-toggleable__control:checked~label.sk-toggleable__label {background-color: #d4ebff;}#sk-container-id-1 div.sk-label input.sk-toggleable__control:checked~label.sk-toggleable__label {background-color: #d4ebff;}#sk-container-id-1 input.sk-hidden--visually {border: 0;clip: rect(1px 1px 1px 1px);clip: rect(1px, 1px, 1px, 1px);height: 1px;margin: -1px;overflow: hidden;padding: 0;position: absolute;width: 1px;}#sk-container-id-1 div.sk-estimator {font-family: monospace;background-color: #f0f8ff;border: 1px dotted black;border-radius: 0.25em;box-sizing: border-box;margin-bottom: 0.5em;}#sk-container-id-1 div.sk-estimator:hover {background-color: #d4ebff;}#sk-container-id-1 div.sk-parallel-item::after {content: \"\";width: 100%;border-bottom: 1px solid gray;flex-grow: 1;}#sk-container-id-1 div.sk-label:hover label.sk-toggleable__label {background-color: #d4ebff;}#sk-container-id-1 div.sk-serial::before {content: \"\";position: absolute;border-left: 1px solid gray;box-sizing: border-box;top: 0;bottom: 0;left: 50%;z-index: 0;}#sk-container-id-1 div.sk-serial {display: flex;flex-direction: column;align-items: center;background-color: white;padding-right: 0.2em;padding-left: 0.2em;position: relative;}#sk-container-id-1 div.sk-item {position: relative;z-index: 1;}#sk-container-id-1 div.sk-parallel {display: flex;align-items: stretch;justify-content: center;background-color: white;position: relative;}#sk-container-id-1 div.sk-item::before, #sk-container-id-1 div.sk-parallel-item::before {content: \"\";position: absolute;border-left: 1px solid gray;box-sizing: border-box;top: 0;bottom: 0;left: 50%;z-index: -1;}#sk-container-id-1 div.sk-parallel-item {display: flex;flex-direction: column;z-index: 1;position: relative;background-color: white;}#sk-container-id-1 div.sk-parallel-item:first-child::after {align-self: flex-end;width: 50%;}#sk-container-id-1 div.sk-parallel-item:last-child::after {align-self: flex-start;width: 50%;}#sk-container-id-1 div.sk-parallel-item:only-child::after {width: 0;}#sk-container-id-1 div.sk-dashed-wrapped {border: 1px dashed gray;margin: 0 0.4em 0.5em 0.4em;box-sizing: border-box;padding-bottom: 0.4em;background-color: white;}#sk-container-id-1 div.sk-label label {font-family: monospace;font-weight: bold;display: inline-block;line-height: 1.2em;}#sk-container-id-1 div.sk-label-container {text-align: center;}#sk-container-id-1 div.sk-container {/* jupyter's `normalize.less` sets `[hidden] { display: none; }` but bootstrap.min.css set `[hidden] { display: none !important; }` so we also need the `!important` here to be able to override the default hidden behavior on the sphinx rendered scikit-learn.org. See: https://github.com/scikit-learn/scikit-learn/issues/21755 */display: inline-block !important;position: relative;}#sk-container-id-1 div.sk-text-repr-fallback {display: none;}</style><div id=\"sk-container-id-1\" class=\"sk-top-container\"><div class=\"sk-text-repr-fallback\"><pre>LinearRegression()</pre><b>In a Jupyter environment, please rerun this cell to show the HTML representation or trust the notebook. <br />On GitHub, the HTML representation is unable to render, please try loading this page with nbviewer.org.</b></div><div class=\"sk-container\" hidden><div class=\"sk-item\"><div class=\"sk-estimator sk-toggleable\"><input class=\"sk-toggleable__control sk-hidden--visually\" id=\"sk-estimator-id-1\" type=\"checkbox\" checked><label for=\"sk-estimator-id-1\" class=\"sk-toggleable__label sk-toggleable__label-arrow\">LinearRegression</label><div class=\"sk-toggleable__content\"><pre>LinearRegression()</pre></div></div></div></div></div>"
      ],
      "text/plain": [
       "LinearRegression()"
      ]
     },
     "execution_count": 11,
     "metadata": {},
     "output_type": "execute_result"
    }
   ],
   "source": [
    "from sklearn.linear_model import LinearRegression\n",
    "regressor = LinearRegression()\n",
    "regressor.fit (X_train, y_train)"
   ]
  },
  {
   "cell_type": "code",
   "execution_count": 12,
   "metadata": {},
   "outputs": [],
   "source": [
    "y_pred = regressor.predict (X_test)"
   ]
  },
  {
   "cell_type": "code",
   "execution_count": 13,
   "metadata": {},
   "outputs": [
    {
     "data": {
      "text/plain": [
       "array([107353.19870105, 128989.11830486, 131785.54540641,  69180.27681752,\n",
       "       176947.43190684, 117296.56148844,  62287.78315016,  98979.20123754,\n",
       "       116260.58600826, 166499.92376951])"
      ]
     },
     "execution_count": 13,
     "metadata": {},
     "output_type": "execute_result"
    }
   ],
   "source": [
    "y_pred"
   ]
  },
  {
   "cell_type": "code",
   "execution_count": 14,
   "metadata": {},
   "outputs": [
    {
     "data": {
      "text/plain": [
       "array([103282.38, 144259.4 , 146121.95,  77798.83, 191050.39, 105008.31,\n",
       "        81229.06,  97483.56, 110352.25, 166187.94])"
      ]
     },
     "execution_count": 14,
     "metadata": {},
     "output_type": "execute_result"
    }
   ],
   "source": [
    "y_test"
   ]
  },
  {
   "cell_type": "code",
   "execution_count": 15,
   "metadata": {},
   "outputs": [
    {
     "data": {
      "image/png": "[encoded data removed]",
      "text/plain": [
       "<Figure size 640x480 with 1 Axes>"
      ]
     },
     "metadata": {},
     "output_type": "display_data"
    }
   ],
   "source": [
    "import matplotlib.pyplot as plt\n",
    "\n",
    "# Scatter plot of actual vs. predicted values\n",
    "plt.scatter(y_test, y_pred)\n",
    "plt.xlabel(\"Actual Values\")\n",
    "plt.ylabel(\"Predicted Values\")\n",
    "plt.title(\"Actual vs. Predicted Values in Multiple Linear Regression\")\n",
    "plt.show()\n"
   ]
  },
  {
   "cell_type": "code",
   "execution_count": 54,
   "metadata": {},
   "outputs": [
    {
     "data": {
      "image/png": "[encoded data removed]",
      "text/plain": [
       "<Figure size 640x480 with 1 Axes>"
      ]
     },
     "metadata": {},
     "output_type": "display_data"
    }
   ],
   "source": [
    "# Residual plot\n",
    "residuals = y_test - y_pred\n",
    "plt.scatter(y_pred, residuals)\n",
    "plt.xlabel(\"Predicted Values\")\n",
    "plt.ylabel(\"Residuals\")\n",
    "plt.title(\"Residual Plot in Multiple Linear Regression\")\n",
    "plt.axhline(y=0, color='k', linestyle='--')  # Adding a horizontal line at y=0\n",
    "plt.show()\n"
   ]
  },
  {
   "cell_type": "code",
   "execution_count": 16,
   "metadata": {},
   "outputs": [],
   "source": [
    "import pickle\n",
    "\n",
    "pickle.dump (regressor, open('model.pkl', 'wb'))"
   ]
  },
  {
   "cell_type": "code",
   "execution_count": 20,
   "metadata": {},
   "outputs": [
    {
     "name": "stdout",
     "output_type": "stream",
     "text": [
      "[47390.67293812]\n"
     ]
    }
   ],
   "source": [
    "model = pickle.load (open('model.pkl', 'rb'))\n",
    "print (model.predict([[20, 39, 40]]))"
   ]
  }
 ],
 "metadata": {
  "kernelspec": {
   "display_name": "tensorflow-cpu",
   "language": "python",
   "name": "python3"
  },
  "language_info": {
   "codemirror_mode": {
    "name": "ipython",
    "version": 3
   },
   "file_extension": ".py",
   "mimetype": "text/x-python",
   "name": "python",
   "nbconvert_exporter": "python",
   "pygments_lexer": "ipython3",
   "version": "3.11.4"
  },
  "orig_nbformat": 4
 },
 "nbformat": 4,
 "nbformat_minor": 2
}
